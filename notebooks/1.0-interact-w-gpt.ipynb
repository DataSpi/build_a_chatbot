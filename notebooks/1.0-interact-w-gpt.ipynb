{
 "cells": [
  {
   "cell_type": "code",
   "execution_count": 1,
   "metadata": {},
   "outputs": [],
   "source": [
    "import pandas as pd\n",
    "import os\n",
    "import streamlit as st\n",
    "from dotenv import load_dotenv\n",
    "# from PyPDF2 import PdfReader, PdfFileReader\n",
    "# import PyPDF2\n",
    "from langchain.document_loaders.csv_loader import CSVLoader\n",
    "from langchain.text_splitter import CharacterTextSplitter\n",
    "from langchain.embeddings import HuggingFaceInstructEmbeddings\n",
    "from langchain.embeddings import OpenAIEmbeddings\n",
    "from langchain.vectorstores import FAISS\n",
    "from langchain.chat_models import ChatOpenAI\n",
    "from langchain.memory import ConversationBufferMemory\n",
    "from langchain.chains import ConversationalRetrievalChain\n",
    "# from htmlTemplates import css, bot_template, user_template\n",
    "from langchain.llms import HuggingFaceHub\n"
   ]
  },
  {
   "cell_type": "code",
   "execution_count": 2,
   "metadata": {},
   "outputs": [
    {
     "data": {
      "text/plain": [
       "True"
      ]
     },
     "execution_count": 2,
     "metadata": {},
     "output_type": "execute_result"
    }
   ],
   "source": [
    "load_dotenv() # this automatically load my OPENAI_API_KEY from the .env file without having to assign it to any variable or parameter"
   ]
  },
  {
   "cell_type": "code",
   "execution_count": 3,
   "metadata": {},
   "outputs": [],
   "source": [
    "import openai\n",
    "openai.api_key = os.getenv(\"OPENAI_API_KEY\")"
   ]
  },
  {
   "cell_type": "code",
   "execution_count": 21,
   "metadata": {},
   "outputs": [],
   "source": [
    "prompt=\"write me a 500 words detail introduction about NLP\"\n",
    "\n",
    "response = openai.Completion.create(\n",
    "    engine=\"text-davinci-002\",\n",
    "    prompt=prompt,\n",
    "    temperature=0.4,\n",
    "    max_tokens=4000\n",
    ")"
   ]
  },
  {
   "cell_type": "code",
   "execution_count": 22,
   "metadata": {},
   "outputs": [
    {
     "name": "stdout",
     "output_type": "stream",
     "text": [
      "\n",
      "\n",
      "Natural Language Processing (NLP) is a field of computer science and artificial intelligence concerned with the interactions between computers and human (natural) languages, in particular how to program computers to process and analyze large amounts of natural language data.\n",
      "\n",
      "NLP technologies are used in a wide variety of applications, including computer vision, speech recognition, machine translation, question answering, information retrieval, and text summarization.\n",
      "\n",
      "The history of NLP generally starts in the 1950s, although work in the area can be traced back to the early days of computing. In 1950, Alan Turing published his famous paper \"Computing Machinery and Intelligence\", in which he proposed the Turing test as a way to determine whether a machine could exhibit intelligent behavior.\n",
      "\n",
      "In the 1960s and 1970s, a number of researchers began to explore the possibility of using computers to understand and generate natural language. One of the earliest and most influential of these was Roger Schank, who developed a series of programs that could understand simple stories.\n",
      "\n",
      "Other important figures in the early history of NLP include Gerald Salton, who developed the vector space model for representing documents, and Christopher Manning, who developed the part-of-speech tagger.\n",
      "\n",
      "The 1980s and 1990s saw a dramatic increase in the amount of research in NLP, with the establishment of a number of important journals and conferences, such as the annual Conference on Computational Linguistics (COLING).\n",
      "\n",
      "In the late 1990s and early 2000s, a number of commercial companies began to apply NLP technology to a wide range of applications, such as customer service, information retrieval, and machine translation.\n",
      "\n",
      "Today, NLP is used in a variety of applications, including automatic summarization, question answering, information extraction, and sentiment analysis.\n"
     ]
    }
   ],
   "source": [
    "print(response.choices[0].text)"
   ]
  },
  {
   "cell_type": "code",
   "execution_count": 23,
   "metadata": {},
   "outputs": [
    {
     "name": "stdout",
     "output_type": "stream",
     "text": [
      "\u001b[0;31mInit signature:\u001b[0m\n",
      "\u001b[0mOpenAI\u001b[0m\u001b[0;34m(\u001b[0m\u001b[0;34m\u001b[0m\n",
      "\u001b[0;34m\u001b[0m    \u001b[0;34m*\u001b[0m\u001b[0;34m,\u001b[0m\u001b[0;34m\u001b[0m\n",
      "\u001b[0;34m\u001b[0m    \u001b[0mcache\u001b[0m\u001b[0;34m:\u001b[0m \u001b[0mOptional\u001b[0m\u001b[0;34m[\u001b[0m\u001b[0mbool\u001b[0m\u001b[0;34m]\u001b[0m \u001b[0;34m=\u001b[0m \u001b[0;32mNone\u001b[0m\u001b[0;34m,\u001b[0m\u001b[0;34m\u001b[0m\n",
      "\u001b[0;34m\u001b[0m    \u001b[0mverbose\u001b[0m\u001b[0;34m:\u001b[0m \u001b[0mbool\u001b[0m \u001b[0;34m=\u001b[0m \u001b[0;32mNone\u001b[0m\u001b[0;34m,\u001b[0m\u001b[0;34m\u001b[0m\n",
      "\u001b[0;34m\u001b[0m    \u001b[0mcallbacks\u001b[0m\u001b[0;34m:\u001b[0m \u001b[0mUnion\u001b[0m\u001b[0;34m[\u001b[0m\u001b[0mList\u001b[0m\u001b[0;34m[\u001b[0m\u001b[0mlangchain\u001b[0m\u001b[0;34m.\u001b[0m\u001b[0mcallbacks\u001b[0m\u001b[0;34m.\u001b[0m\u001b[0mbase\u001b[0m\u001b[0;34m.\u001b[0m\u001b[0mBaseCallbackHandler\u001b[0m\u001b[0;34m]\u001b[0m\u001b[0;34m,\u001b[0m \u001b[0mlangchain\u001b[0m\u001b[0;34m.\u001b[0m\u001b[0mcallbacks\u001b[0m\u001b[0;34m.\u001b[0m\u001b[0mbase\u001b[0m\u001b[0;34m.\u001b[0m\u001b[0mBaseCallbackManager\u001b[0m\u001b[0;34m,\u001b[0m \u001b[0mNoneType\u001b[0m\u001b[0;34m]\u001b[0m \u001b[0;34m=\u001b[0m \u001b[0;32mNone\u001b[0m\u001b[0;34m,\u001b[0m\u001b[0;34m\u001b[0m\n",
      "\u001b[0;34m\u001b[0m    \u001b[0mcallback_manager\u001b[0m\u001b[0;34m:\u001b[0m \u001b[0mOptional\u001b[0m\u001b[0;34m[\u001b[0m\u001b[0mlangchain\u001b[0m\u001b[0;34m.\u001b[0m\u001b[0mcallbacks\u001b[0m\u001b[0;34m.\u001b[0m\u001b[0mbase\u001b[0m\u001b[0;34m.\u001b[0m\u001b[0mBaseCallbackManager\u001b[0m\u001b[0;34m]\u001b[0m \u001b[0;34m=\u001b[0m \u001b[0;32mNone\u001b[0m\u001b[0;34m,\u001b[0m\u001b[0;34m\u001b[0m\n",
      "\u001b[0;34m\u001b[0m    \u001b[0mtags\u001b[0m\u001b[0;34m:\u001b[0m \u001b[0mOptional\u001b[0m\u001b[0;34m[\u001b[0m\u001b[0mList\u001b[0m\u001b[0;34m[\u001b[0m\u001b[0mstr\u001b[0m\u001b[0;34m]\u001b[0m\u001b[0;34m]\u001b[0m \u001b[0;34m=\u001b[0m \u001b[0;32mNone\u001b[0m\u001b[0;34m,\u001b[0m\u001b[0;34m\u001b[0m\n",
      "\u001b[0;34m\u001b[0m    \u001b[0mmetadata\u001b[0m\u001b[0;34m:\u001b[0m \u001b[0mOptional\u001b[0m\u001b[0;34m[\u001b[0m\u001b[0mDict\u001b[0m\u001b[0;34m[\u001b[0m\u001b[0mstr\u001b[0m\u001b[0;34m,\u001b[0m \u001b[0mAny\u001b[0m\u001b[0;34m]\u001b[0m\u001b[0;34m]\u001b[0m \u001b[0;34m=\u001b[0m \u001b[0;32mNone\u001b[0m\u001b[0;34m,\u001b[0m\u001b[0;34m\u001b[0m\n",
      "\u001b[0;34m\u001b[0m    \u001b[0mclient\u001b[0m\u001b[0;34m:\u001b[0m \u001b[0mAny\u001b[0m \u001b[0;34m=\u001b[0m \u001b[0;32mNone\u001b[0m\u001b[0;34m,\u001b[0m\u001b[0;34m\u001b[0m\n",
      "\u001b[0;34m\u001b[0m    \u001b[0mmodel\u001b[0m\u001b[0;34m:\u001b[0m \u001b[0mstr\u001b[0m \u001b[0;34m=\u001b[0m \u001b[0;34m'text-davinci-003'\u001b[0m\u001b[0;34m,\u001b[0m\u001b[0;34m\u001b[0m\n",
      "\u001b[0;34m\u001b[0m    \u001b[0mtemperature\u001b[0m\u001b[0;34m:\u001b[0m \u001b[0mfloat\u001b[0m \u001b[0;34m=\u001b[0m \u001b[0;36m0.7\u001b[0m\u001b[0;34m,\u001b[0m\u001b[0;34m\u001b[0m\n",
      "\u001b[0;34m\u001b[0m    \u001b[0mmax_tokens\u001b[0m\u001b[0;34m:\u001b[0m \u001b[0mint\u001b[0m \u001b[0;34m=\u001b[0m \u001b[0;36m256\u001b[0m\u001b[0;34m,\u001b[0m\u001b[0;34m\u001b[0m\n",
      "\u001b[0;34m\u001b[0m    \u001b[0mtop_p\u001b[0m\u001b[0;34m:\u001b[0m \u001b[0mfloat\u001b[0m \u001b[0;34m=\u001b[0m \u001b[0;36m1\u001b[0m\u001b[0;34m,\u001b[0m\u001b[0;34m\u001b[0m\n",
      "\u001b[0;34m\u001b[0m    \u001b[0mfrequency_penalty\u001b[0m\u001b[0;34m:\u001b[0m \u001b[0mfloat\u001b[0m \u001b[0;34m=\u001b[0m \u001b[0;36m0\u001b[0m\u001b[0;34m,\u001b[0m\u001b[0;34m\u001b[0m\n",
      "\u001b[0;34m\u001b[0m    \u001b[0mpresence_penalty\u001b[0m\u001b[0;34m:\u001b[0m \u001b[0mfloat\u001b[0m \u001b[0;34m=\u001b[0m \u001b[0;36m0\u001b[0m\u001b[0;34m,\u001b[0m\u001b[0;34m\u001b[0m\n",
      "\u001b[0;34m\u001b[0m    \u001b[0mn\u001b[0m\u001b[0;34m:\u001b[0m \u001b[0mint\u001b[0m \u001b[0;34m=\u001b[0m \u001b[0;36m1\u001b[0m\u001b[0;34m,\u001b[0m\u001b[0;34m\u001b[0m\n",
      "\u001b[0;34m\u001b[0m    \u001b[0mbest_of\u001b[0m\u001b[0;34m:\u001b[0m \u001b[0mint\u001b[0m \u001b[0;34m=\u001b[0m \u001b[0;36m1\u001b[0m\u001b[0;34m,\u001b[0m\u001b[0;34m\u001b[0m\n",
      "\u001b[0;34m\u001b[0m    \u001b[0mmodel_kwargs\u001b[0m\u001b[0;34m:\u001b[0m \u001b[0mDict\u001b[0m\u001b[0;34m[\u001b[0m\u001b[0mstr\u001b[0m\u001b[0;34m,\u001b[0m \u001b[0mAny\u001b[0m\u001b[0;34m]\u001b[0m \u001b[0;34m=\u001b[0m \u001b[0;32mNone\u001b[0m\u001b[0;34m,\u001b[0m\u001b[0;34m\u001b[0m\n",
      "\u001b[0;34m\u001b[0m    \u001b[0mopenai_api_key\u001b[0m\u001b[0;34m:\u001b[0m \u001b[0mOptional\u001b[0m\u001b[0;34m[\u001b[0m\u001b[0mstr\u001b[0m\u001b[0;34m]\u001b[0m \u001b[0;34m=\u001b[0m \u001b[0;32mNone\u001b[0m\u001b[0;34m,\u001b[0m\u001b[0;34m\u001b[0m\n",
      "\u001b[0;34m\u001b[0m    \u001b[0mopenai_api_base\u001b[0m\u001b[0;34m:\u001b[0m \u001b[0mOptional\u001b[0m\u001b[0;34m[\u001b[0m\u001b[0mstr\u001b[0m\u001b[0;34m]\u001b[0m \u001b[0;34m=\u001b[0m \u001b[0;32mNone\u001b[0m\u001b[0;34m,\u001b[0m\u001b[0;34m\u001b[0m\n",
      "\u001b[0;34m\u001b[0m    \u001b[0mopenai_organization\u001b[0m\u001b[0;34m:\u001b[0m \u001b[0mOptional\u001b[0m\u001b[0;34m[\u001b[0m\u001b[0mstr\u001b[0m\u001b[0;34m]\u001b[0m \u001b[0;34m=\u001b[0m \u001b[0;32mNone\u001b[0m\u001b[0;34m,\u001b[0m\u001b[0;34m\u001b[0m\n",
      "\u001b[0;34m\u001b[0m    \u001b[0mopenai_proxy\u001b[0m\u001b[0;34m:\u001b[0m \u001b[0mOptional\u001b[0m\u001b[0;34m[\u001b[0m\u001b[0mstr\u001b[0m\u001b[0;34m]\u001b[0m \u001b[0;34m=\u001b[0m \u001b[0;32mNone\u001b[0m\u001b[0;34m,\u001b[0m\u001b[0;34m\u001b[0m\n",
      "\u001b[0;34m\u001b[0m    \u001b[0mbatch_size\u001b[0m\u001b[0;34m:\u001b[0m \u001b[0mint\u001b[0m \u001b[0;34m=\u001b[0m \u001b[0;36m20\u001b[0m\u001b[0;34m,\u001b[0m\u001b[0;34m\u001b[0m\n",
      "\u001b[0;34m\u001b[0m    \u001b[0mrequest_timeout\u001b[0m\u001b[0;34m:\u001b[0m \u001b[0mUnion\u001b[0m\u001b[0;34m[\u001b[0m\u001b[0mfloat\u001b[0m\u001b[0;34m,\u001b[0m \u001b[0mTuple\u001b[0m\u001b[0;34m[\u001b[0m\u001b[0mfloat\u001b[0m\u001b[0;34m,\u001b[0m \u001b[0mfloat\u001b[0m\u001b[0;34m]\u001b[0m\u001b[0;34m,\u001b[0m \u001b[0mNoneType\u001b[0m\u001b[0;34m]\u001b[0m \u001b[0;34m=\u001b[0m \u001b[0;32mNone\u001b[0m\u001b[0;34m,\u001b[0m\u001b[0;34m\u001b[0m\n",
      "\u001b[0;34m\u001b[0m    \u001b[0mlogit_bias\u001b[0m\u001b[0;34m:\u001b[0m \u001b[0mOptional\u001b[0m\u001b[0;34m[\u001b[0m\u001b[0mDict\u001b[0m\u001b[0;34m[\u001b[0m\u001b[0mstr\u001b[0m\u001b[0;34m,\u001b[0m \u001b[0mfloat\u001b[0m\u001b[0;34m]\u001b[0m\u001b[0;34m]\u001b[0m \u001b[0;34m=\u001b[0m \u001b[0;32mNone\u001b[0m\u001b[0;34m,\u001b[0m\u001b[0;34m\u001b[0m\n",
      "\u001b[0;34m\u001b[0m    \u001b[0mmax_retries\u001b[0m\u001b[0;34m:\u001b[0m \u001b[0mint\u001b[0m \u001b[0;34m=\u001b[0m \u001b[0;36m6\u001b[0m\u001b[0;34m,\u001b[0m\u001b[0;34m\u001b[0m\n",
      "\u001b[0;34m\u001b[0m    \u001b[0mstreaming\u001b[0m\u001b[0;34m:\u001b[0m \u001b[0mbool\u001b[0m \u001b[0;34m=\u001b[0m \u001b[0;32mFalse\u001b[0m\u001b[0;34m,\u001b[0m\u001b[0;34m\u001b[0m\n",
      "\u001b[0;34m\u001b[0m    \u001b[0mallowed_special\u001b[0m\u001b[0;34m:\u001b[0m \u001b[0mUnion\u001b[0m\u001b[0;34m[\u001b[0m\u001b[0mLiteral\u001b[0m\u001b[0;34m[\u001b[0m\u001b[0;34m'all'\u001b[0m\u001b[0;34m]\u001b[0m\u001b[0;34m,\u001b[0m \u001b[0mAbstractSet\u001b[0m\u001b[0;34m[\u001b[0m\u001b[0mstr\u001b[0m\u001b[0;34m]\u001b[0m\u001b[0;34m]\u001b[0m \u001b[0;34m=\u001b[0m \u001b[0mset\u001b[0m\u001b[0;34m(\u001b[0m\u001b[0;34m)\u001b[0m\u001b[0;34m,\u001b[0m\u001b[0;34m\u001b[0m\n",
      "\u001b[0;34m\u001b[0m    \u001b[0mdisallowed_special\u001b[0m\u001b[0;34m:\u001b[0m \u001b[0mUnion\u001b[0m\u001b[0;34m[\u001b[0m\u001b[0mLiteral\u001b[0m\u001b[0;34m[\u001b[0m\u001b[0;34m'all'\u001b[0m\u001b[0;34m]\u001b[0m\u001b[0;34m,\u001b[0m \u001b[0mCollection\u001b[0m\u001b[0;34m[\u001b[0m\u001b[0mstr\u001b[0m\u001b[0;34m]\u001b[0m\u001b[0;34m]\u001b[0m \u001b[0;34m=\u001b[0m \u001b[0;34m'all'\u001b[0m\u001b[0;34m,\u001b[0m\u001b[0;34m\u001b[0m\n",
      "\u001b[0;34m\u001b[0m    \u001b[0mtiktoken_model_name\u001b[0m\u001b[0;34m:\u001b[0m \u001b[0mOptional\u001b[0m\u001b[0;34m[\u001b[0m\u001b[0mstr\u001b[0m\u001b[0;34m]\u001b[0m \u001b[0;34m=\u001b[0m \u001b[0;32mNone\u001b[0m\u001b[0;34m,\u001b[0m\u001b[0;34m\u001b[0m\n",
      "\u001b[0;34m\u001b[0m\u001b[0;34m)\u001b[0m \u001b[0;34m->\u001b[0m \u001b[0;32mNone\u001b[0m\u001b[0;34m\u001b[0m\u001b[0;34m\u001b[0m\u001b[0m\n",
      "\u001b[0;31mDocstring:\u001b[0m     \n",
      "OpenAI large language models.\n",
      "\n",
      "To use, you should have the ``openai`` python package installed, and the\n",
      "environment variable ``OPENAI_API_KEY`` set with your API key.\n",
      "\n",
      "Any parameters that are valid to be passed to the openai.create call can be passed\n",
      "in, even if not explicitly saved on this class.\n",
      "\n",
      "Example:\n",
      "    .. code-block:: python\n",
      "\n",
      "        from langchain.llms import OpenAI\n",
      "        openai = OpenAI(model_name=\"text-davinci-003\")\n",
      "\u001b[0;31mInit docstring:\u001b[0m\n",
      "Create a new model by parsing and validating input data from keyword arguments.\n",
      "\n",
      "Raises ValidationError if the input data cannot be parsed to form a valid model.\n",
      "\u001b[0;31mFile:\u001b[0m           ~/miniconda3/envs/inno23/lib/python3.11/site-packages/langchain/llms/openai.py\n",
      "\u001b[0;31mType:\u001b[0m           ModelMetaclass\n",
      "\u001b[0;31mSubclasses:\u001b[0m     "
     ]
    }
   ],
   "source": [
    "OpenAI?"
   ]
  },
  {
   "cell_type": "code",
   "execution_count": 24,
   "metadata": {},
   "outputs": [],
   "source": [
    "llm = OpenAI(temperature=0)"
   ]
  },
  {
   "cell_type": "code",
   "execution_count": 25,
   "metadata": {},
   "outputs": [
    {
     "data": {
      "text/plain": [
       "'\\n\\nNatural Language Processing (NLP) is a field of Artificial Intelligence (AI) that focuses on the interactions between computers and human language. It is an interdisciplinary field that combines linguistics, computer science, and information engineering to develop algorithms and systems that can understand, interpret, and generate natural language.\\n\\nNLP is used to analyze and understand the meaning of text, speech, and other forms of communication. It is used to develop applications such as machine translation, text-to-speech, question answering, and text summarization. NLP is also used in areas such as sentiment analysis, natural language understanding, and natural language generation.\\n\\nNLP is based on the idea that language is a structured system of symbols and rules. It uses a variety of techniques to analyze and understand language, including syntactic analysis, semantic analysis, discourse analysis, and pragmatics. NLP also uses machine learning algorithms to learn from data and improve its performance.\\n\\nNLP has a wide range of applications in many different fields. It is used in search engines to understand user queries and provide relevant results. It is also used in customer service to understand customer queries and provide appropriate responses. NLP is used in healthcare to analyze medical records and provide insights into patient'"
      ]
     },
     "execution_count": 25,
     "metadata": {},
     "output_type": "execute_result"
    }
   ],
   "source": [
    "llm(\"write me a 500 words detail introduction about NLP\")"
   ]
  },
  {
   "cell_type": "code",
   "execution_count": 26,
   "metadata": {},
   "outputs": [
    {
     "name": "stdout",
     "output_type": "stream",
     "text": [
      "\n",
      "\n",
      "Natural Language Processing (NLP) is a field of Artificial Intelligence (AI) that focuses on the interactions between computers and human language. It is an interdisciplinary field that combines linguistics, computer science, and information engineering to develop algorithms and systems that can understand, interpret, and generate natural language.\n",
      "\n",
      "NLP is used to analyze and understand the meaning of text, speech, and other forms of communication. It is used to develop applications such as machine translation, text-to-speech, question answering, and text summarization. NLP is also used in areas such as sentiment analysis, natural language understanding, and natural language generation.\n",
      "\n",
      "NLP is based on the idea that language is a structured system of symbols and rules. It uses a variety of techniques to analyze and understand language, including syntactic analysis, semantic analysis, discourse analysis, and pragmatics. NLP also uses machine learning algorithms to learn from data and improve its performance.\n",
      "\n",
      "NLP has a wide range of applications in many different fields. It is used in search engines to understand user queries and provide relevant results. It is also used in customer service to understand customer queries and provide appropriate responses. NLP is used in healthcare to analyze medical records and provide insights into patient\n"
     ]
    }
   ],
   "source": [
    "print('\\n\\nNatural Language Processing (NLP) is a field of Artificial Intelligence (AI) that focuses on the interactions between computers and human language. It is an interdisciplinary field that combines linguistics, computer science, and information engineering to develop algorithms and systems that can understand, interpret, and generate natural language.\\n\\nNLP is used to analyze and understand the meaning of text, speech, and other forms of communication. It is used to develop applications such as machine translation, text-to-speech, question answering, and text summarization. NLP is also used in areas such as sentiment analysis, natural language understanding, and natural language generation.\\n\\nNLP is based on the idea that language is a structured system of symbols and rules. It uses a variety of techniques to analyze and understand language, including syntactic analysis, semantic analysis, discourse analysis, and pragmatics. NLP also uses machine learning algorithms to learn from data and improve its performance.\\n\\nNLP has a wide range of applications in many different fields. It is used in search engines to understand user queries and provide relevant results. It is also used in customer service to understand customer queries and provide appropriate responses. NLP is used in healthcare to analyze medical records and provide insights into patient')"
   ]
  },
  {
   "cell_type": "code",
   "execution_count": 27,
   "metadata": {},
   "outputs": [
    {
     "name": "stdout",
     "output_type": "stream",
     "text": [
      "\n",
      "\n",
      "Natural Language Processing (NLP) is a field of Artificial Intelligence (AI) that focuses on the interactions between computers and human language. It is an interdisciplinary field that combines linguistics, computer science, and information engineering to develop algorithms and systems that can understand, interpret, and generate natural language.\n",
      "\n",
      "NLP is used to analyze and understand the meaning of text, speech, and other forms of communication. It is used to develop applications such as machine translation, text-to-speech, question answering, and text summarization. NLP is also used in areas such as sentiment analysis, natural language understanding, and natural language generation.\n",
      "\n",
      "NLP is based on the idea that language is a structured system of symbols and rules. It uses a variety of techniques to analyze and understand language, including syntactic analysis, semantic analysis, discourse analysis, and pragmatics. NLP also uses machine learning algorithms to learn from data and improve its performance.\n",
      "\n",
      "NLP has a wide range of applications in many different fields. It is used in search engines to understand user queries and provide relevant results. It is also used in customer service to understand customer queries and provide appropriate responses. NLP is used in healthcare to analyze medical records and provide insights into patient health. It is also used in finance to analyze financial data and provide insights into market trends.\n",
      "\n",
      "NLP is an important field of AI that is rapidly evolving. It is used in many different industries and applications, and its potential is only beginning to be explored. As the technology continues to develop, it will become increasingly important in many different areas.\n"
     ]
    }
   ],
   "source": [
    "llm = OpenAI(temperature=0, max_tokens=2048)\n",
    "response=llm(\"write me a 500 words detail introduction about NLP\")\n",
    "print(response)\n"
   ]
  },
  {
   "cell_type": "code",
   "execution_count": 29,
   "metadata": {},
   "outputs": [
    {
     "name": "stdout",
     "output_type": "stream",
     "text": [
      "\u001b[31m \u001b[1m words count: 262\n"
     ]
    }
   ],
   "source": [
    "from colorama import Fore, Style\n",
    "print(Fore.RED, Style.BRIGHT, \"words count:\", len(response.split()))"
   ]
  },
  {
   "cell_type": "code",
   "execution_count": 30,
   "metadata": {},
   "outputs": [
    {
     "name": "stdout",
     "output_type": "stream",
     "text": [
      "\n",
      "\n",
      "Natural Language Processing (NLP) is a field of Artificial Intelligence (AI) that deals with the analysis, understanding, and generation of natural language. It is a subfield of computer science, information engineering, and linguistics that focuses on the interactions between computers and human languages. NLP enables computers to understand, interpret, and manipulate human language, allowing them to interact with humans in a more natural way.\n",
      "\n",
      "NLP is used in a variety of applications, such as machine translation, text summarization, question answering, text classification, and sentiment analysis. It is also used in natural language understanding (NLU) systems, which are used to interpret and understand user input. NLU systems are used in virtual assistants, such as Amazon Alexa and Google Home, to interpret user commands and provide appropriate responses.\n",
      "\n",
      "NLP is based on the idea that language is a structured system of symbols and rules. It uses a variety of techniques to analyze and understand natural language, including syntactic analysis, semantic analysis, discourse analysis, and pragmatics. Syntactic analysis is the process of analyzing the structure of a sentence, such as its grammar and syntax. Semantic analysis is the process of analyzing the meaning of a sentence, such as its context and intent. Discourse analysis is the process of analyzing the relationship between sentences, such as how they are connected and how they relate to each other. Pragmatics is the process of analyzing the use of language in a particular context, such as how it is used in a conversation.\n",
      "\n",
      "NLP also uses a variety of algorithms and techniques to process natural language, such as rule-based systems, statistical methods, and machine learning. Rule-based systems use a set of rules to analyze and interpret natural language. Statistical methods use statistical models to analyze and interpret natural language. Machine learning algorithms use data to learn patterns and relationships in natural language.\n",
      "\n",
      "NLP is an important field of AI that has a wide range of applications. It is used in a variety of industries, such as healthcare, finance, and customer service. It is also used in natural language understanding systems, which are used to interpret user input and provide appropriate responses. NLP is an important field of AI that is constantly evolving and improving, and it will continue to be an important part of AI in the future.\n",
      "\u001b[31m \u001b[1m words count: 381\n"
     ]
    }
   ],
   "source": [
    "response=llm(\"write me at least 500 words (minimum) detail introduction about NLP\")\n",
    "print(response)\n",
    "print(Fore.RED, Style.BRIGHT, \"words count:\", len(response.split()))\n"
   ]
  },
  {
   "cell_type": "code",
   "execution_count": 31,
   "metadata": {},
   "outputs": [
    {
     "name": "stdout",
     "output_type": "stream",
     "text": [
      "\n",
      "\n",
      "Bad faith is a concept developed by the French philosopher Jean-Paul Sartre to describe the phenomenon of people acting inauthentically. It is a form of self-deception in which a person denies their true nature and instead acts in a way that is contrary to their beliefs and values. Bad faith is a state of mind in which a person is not honest with themselves and instead chooses to live a life of lies and deceit.\n",
      "\n",
      "The concept of bad faith was first introduced by Sartre in his 1946 work Being and Nothingness. In this work, Sartre argued that bad faith is a form of self-deception in which a person denies their true nature and instead acts in a way that is contrary to their beliefs and values. He argued that bad faith is a form of self-deception in which a person denies their true nature and instead acts in a way that is contrary to their beliefs and values.\n",
      "\n",
      "Sartre believed that bad faith is a form of self-deception in which a person denies their true nature and instead acts in a way that is contrary to their beliefs and values. He argued that bad faith is a form of self-deception in which a person denies their true nature and instead acts in a way that is contrary to their beliefs and values. He argued that bad faith is a form of self-deception in which a person denies their true nature and instead acts in a way that is contrary to their beliefs and values.\n",
      "\n",
      "Sartre argued that bad faith is a form of self-deception in which a person denies their true nature and instead acts in a way that is contrary to their beliefs and values. He argued that bad faith is a form of self-deception in which a person denies their true nature and instead acts in a way that is contrary to their beliefs and values. He argued that bad faith is a form of self-deception in which a person denies their true nature and instead acts in a way that is contrary to their beliefs and values.\n",
      "\n",
      "Sartre argued that bad faith is a form of self-deception in which a person denies their true nature and instead acts in a way that is contrary to their beliefs and values. He argued that bad faith is a form of self-deception in which a person denies their true nature and instead acts in a way that is contrary to their beliefs and values. He argued that bad faith is a form of self-deception in which a person denies their true nature and instead acts in a way that is contrary to their beliefs and values.\n",
      "\n",
      "Sartre argued that bad faith is a form of self-deception in which a person denies their true nature and instead acts in a way that is contrary to their beliefs and values. He argued that bad faith is a form of self-deception in which a person denies their true nature and instead acts in a way that is contrary to their beliefs and values. He argued that bad faith is a form of self-deception in which a person denies their true nature and instead acts in a way that is contrary to their beliefs and values.\n",
      "\n",
      "Sartre argued that bad faith is a form of self-deception in which a person denies their true nature and instead acts in a way that is contrary to their beliefs and values. He argued that bad faith is a form of self-deception in which a person denies their true nature and instead acts in a way that is contrary to their beliefs and values. He argued that bad faith is a form of self-deception in which a person denies their true nature and instead acts in a way that is contrary to their beliefs and values.\n",
      "\n",
      "Sartre argued that bad faith is a form of self-deception in which a person denies their true nature and instead acts in a way that is contrary to their beliefs and values. He argued that bad faith is a form of self-deception in which a person denies their true nature and instead acts in a way that is contrary to their beliefs and values. He argued that bad faith is a form of self-deception in which a person denies their true nature and instead acts in a way that is contrary to their beliefs and values.\n",
      "\n",
      "Sartre argued that bad faith is a form of self-deception in which a person denies their true nature and instead acts in a way that is contrary to their beliefs and values. He argued that bad faith is a form of self-deception in which a person denies their true nature and instead acts in a way that is contrary to their beliefs and values. He argued that bad faith is a form of self-deception in which a person denies their true nature and instead acts in a way that is contrary to their beliefs and values.\n",
      "\n",
      "Sartre argued that bad faith is a form of self-deception in which a person denies their true nature and instead acts in a way that is contrary to their beliefs and values. He argued that bad faith is a form of self-deception in which a person denies their true nature and instead acts in a way that is contrary to their beliefs and values. He argued that bad faith is a form of self-deception in which a person denies their true nature and instead acts in a way that is contrary to their beliefs and values.\n",
      "\n",
      "Sartre argued that bad faith is a form of self-deception in which a person denies their true nature and instead acts in a way that is contrary to their beliefs and values. He argued that bad faith is a form of self-deception in which a person denies their true nature and instead acts in a way that is contrary to their beliefs and values. He argued that bad faith is a form of self-deception in which a person denies their true nature and instead acts in a way that is contrary to their beliefs and values.\n",
      "\n",
      "Sartre argued that bad faith is a form of self-deception in which a person denies their true nature and instead acts in a way that is contrary to their beliefs and values. He argued that bad faith is a form of self-deception in which a person denies their true nature and instead acts in a way that is contrary to their beliefs and values. He argued that bad faith is a form of self-deception in which a person denies their true nature and instead acts in a way that is contrary to their beliefs and values.\n",
      "\n",
      "Sartre argued that bad faith is a form of self-deception in which a person denies their true nature and instead acts in a way that is contrary to their beliefs and values. He argued that bad faith is a form of self-deception in which a person denies their true nature and instead acts in a way that is contrary to their beliefs and values. He argued that bad faith is a form of self-deception in which a person denies their true nature and instead acts in a way that is contrary to their beliefs and values.\n",
      "\n",
      "Sartre argued that bad faith is a form of self-deception in which a person denies their true nature and instead acts in a way that is contrary to their beliefs and values. He argued that bad faith is a form of self-deception in which a person denies their true nature and instead acts in a way that is contrary to their beliefs and values. He argued that bad faith is a form of self-deception in which a person denies their true nature and instead acts in a way that is contrary to their beliefs and values.\n",
      "\n",
      "Sartre argued that bad faith is a form of self-deception in which a person denies their true nature and instead acts in a way that is contrary to their beliefs and values. He argued that bad faith is a form of self-deception in which a person denies their true nature and instead acts in a way that is contrary to their beliefs and values. He argued that bad faith is a form of self-deception in which a person denies their true nature and instead acts in a way that is contrary to their beliefs and values.\n",
      "\n",
      "Sartre argued that bad faith is a form of self-deception in which a person denies their true nature and instead acts in a way that is contrary to their beliefs and values. He argued that bad faith is a form of self-deception in which a person denies their true nature and instead acts in a way that is contrary to their beliefs and values. He argued that bad faith is a form of self-deception in which a person denies their true nature and instead acts in a way that is contrary to their beliefs and values.\n",
      "\n",
      "Sartre argued that bad faith is a form of self-deception in which a person denies their true nature and instead acts in a way that is contrary to their beliefs and values. He argued that bad faith is a form of self-deception in which a person denies their true nature and instead acts in a way that is contrary to their beliefs and values. He argued that bad faith is a form of self-deception in which a person denies their true nature and instead acts in a way that is contrary to their beliefs and values.\n",
      "\n",
      "Sartre argued that bad faith is a form of self-deception in which a person denies their true nature and instead acts in a way that is contrary to their beliefs and values. He argued that bad faith is a form of self-deception in which a person denies their true nature and instead acts in a way that is contrary to their beliefs and values. He argued that bad faith is a form of self-deception in which a person denies their true nature and instead acts in a way that is contrary to their beliefs and values.\n",
      "\n",
      "Sartre argued that bad faith is a form of self-deception in which a person denies their true nature and instead acts in a way that is contrary to their beliefs and values. He argued that bad faith is a form of self-deception in which a person denies their true nature and instead acts in a\n",
      "\u001b[31m \u001b[1m words count: 1750\n"
     ]
    }
   ],
   "source": [
    "response=llm(\"write me at least 500 words (minimum) detail introduction about 'bad faith' of Sartre\")\n",
    "print(response)\n",
    "print(Fore.RED, Style.BRIGHT, \"words count:\", len(response.split()))\n"
   ]
  },
  {
   "cell_type": "code",
   "execution_count": 32,
   "metadata": {},
   "outputs": [
    {
     "name": "stdout",
     "output_type": "stream",
     "text": [
      "\n",
      "\n",
      "Bad faith is a concept developed by the French philosopher Jean-Paul Sartre to describe the phenomenon of people acting inauthentically. It is a form of self-deception in which a person denies their true nature and instead acts in a way that is contrary to their beliefs and values. Bad faith is a state of mind in which a person is not fully aware of their own motivations and intentions, and instead acts in a way that is not true to themselves.\n",
      "\n",
      "The concept of bad faith was first introduced by Sartre in his 1946 work Being and Nothingness. In this work, Sartre argued that bad faith is a form of self-deception in which a person denies their true nature and instead acts in a way that is contrary to their beliefs and values. He argued that bad faith is a form of self-deception in which a person denies their true nature and instead acts in a way that is contrary to their beliefs and values.\n",
      "\n",
      "Sartre argued that bad faith is a form of self-deception in which a person denies their true nature and instead acts in a way that is contrary to their beliefs and values. He argued that bad faith is a form of self-deception in which a person denies their true nature and instead acts in a way that is contrary to their beliefs and values. He argued that bad faith is a form of self-deception in which a person denies their true nature and instead acts in a way that is contrary to their beliefs and values.\n",
      "\n",
      "Sartre argued that bad faith is a form of self-deception in which a person denies their true nature and instead acts in a way that is contrary to their beliefs and values. He argued that bad faith is a form of self-deception in which a person denies their true nature and instead acts in a way that is contrary to their beliefs and values. He argued that bad faith is a form of self-deception in which a person denies their true nature and instead acts in a way that is contrary to their beliefs and values.\n",
      "\n",
      "Sartre argued that bad faith is a form of self-deception in which a person denies their true nature and instead acts in a way that is contrary to their beliefs and values. He argued that bad faith is a form of self-deception in which a person denies their true nature and instead acts in a way that is contrary to their beliefs and values. He argued that bad faith is a form of self-deception in which a person denies their true nature and instead acts in a way that is contrary to their beliefs and values.\n",
      "\n",
      "Sartre argued that bad faith is a form of self-deception in which a person denies their true nature and instead acts in a way that is contrary to their beliefs and values. He argued that bad faith is a form of self-deception in which a person denies their true nature and instead acts in a way that is contrary to their beliefs and values. He argued that bad faith is a form of self-deception in which a person denies their true nature and instead acts in a way that is contrary to their beliefs and values.\n",
      "\n",
      "Sartre argued that bad faith is a form of self-deception in which a person denies their true nature and instead acts in a way that is contrary to their beliefs and values. He argued that bad faith is a form of self-deception in which a person denies their true nature and instead acts in a way that is contrary to their beliefs and values. He argued that bad faith is a form of self-deception in which a person denies their true nature and instead acts in a way that is contrary to their beliefs and values.\n",
      "\n",
      "Sartre argued that bad faith is a form of self-deception in which a person denies their true nature and instead acts in a way that is contrary to their beliefs and values. He argued that bad faith is a form of self-deception in which a person denies their true nature and instead acts in a way that is contrary to their beliefs and values. He argued that bad faith is a form of self-deception in which a person denies their true nature and instead acts in a way that is contrary to their beliefs and values.\n",
      "\n",
      "Sartre argued that bad faith is a form of self-deception in which a person denies their true nature and instead acts in a way that is contrary to their beliefs and values. He argued that bad faith is a form of self-deception in which a person denies their true nature and instead acts in a way that is contrary to their beliefs and values. He argued that bad faith is a form of self-deception in which a person denies their true nature and instead acts in a way that is contrary to their beliefs and values.\n",
      "\n",
      "Sartre argued that bad faith is a form of self-deception in which a person denies their true nature and instead acts in a way that is contrary to their beliefs and values. He argued that bad faith is a form of self-deception in which a person denies their true nature and instead acts in a way that is contrary to their beliefs and values. He argued that bad faith is a form of self-deception in which a person denies their true nature and instead acts in a way that is contrary to their beliefs and values.\n",
      "\n",
      "Sartre argued that bad faith is a form of self-deception in which a person denies their true nature and instead acts in a way that is contrary to their beliefs and values. He argued that bad faith is a form of self-deception in which a person denies their true nature and instead acts in a way that is contrary to their beliefs and values. He argued that bad faith is a form of self-deception in which a person denies their true nature and instead acts in a way that is contrary to their beliefs and values.\n",
      "\n",
      "Sartre argued that bad faith is a form of self-deception in which a person denies their true nature and instead acts in a way that is contrary to their beliefs and values. He argued that bad faith is a form of self-deception in which a person denies their true nature and instead acts in a way that is contrary to their beliefs and values. He argued that bad faith is a form of self-deception in which a person denies their true nature and instead acts in a way that is contrary to their beliefs and values.\n",
      "\n",
      "Sartre argued that bad faith is a form of self-deception in which a person denies their true nature and instead acts in a way that is contrary to their beliefs and values. He argued that bad faith is a form of self-deception in which a person denies their true nature and instead acts in a way that is contrary to their beliefs and values. He argued that bad faith is a form of self-deception in which a person denies their true nature and instead acts in a way that is contrary to their beliefs and values.\n",
      "\n",
      "Sartre argued that bad faith is a form of self-deception in which a person denies their true nature and instead acts in a way that is contrary to their beliefs and values. He argued that bad faith is a form of self-deception in which a person denies their true nature and instead acts in a way that is contrary to their beliefs and values. He argued that bad faith is a form of self-deception in which a person denies their true nature and instead acts in a way that is contrary to their beliefs and values.\n",
      "\n",
      "Sartre argued that bad faith is a form of self-deception in which a person denies their true nature and instead acts in a way that is contrary to their beliefs and values. He argued that bad faith is a form of self-deception in which a person denies their true nature and instead acts in a way that is contrary to their beliefs and values. He argued that bad faith is a form of self-deception in which a person denies their true nature and instead acts in a way that is contrary to their beliefs and values.\n",
      "\n",
      "Sartre argued that bad faith is a form of self-deception in which a person denies their true nature and instead acts in a way that is contrary to their beliefs and values. He argued that bad faith is a form of self-deception in which a person denies their true nature and instead acts in a way that is contrary to their beliefs and values. He argued that bad faith is a form of self-deception in which a person denies their true nature and instead acts in a way that is contrary to their beliefs and values.\n",
      "\n",
      "Sartre argued that bad faith is a form of self-deception in which a person denies their true nature and instead acts in a way that is contrary to their beliefs and values. He argued that bad faith is a form of self-deception in which a person denies their true nature and instead acts in a way that is contrary to their beliefs and values. He argued that bad faith is a form of self-deception in which a person denies their true nature and instead acts in a way that is contrary to their beliefs and values.\n",
      "\n",
      "Sartre argued that bad faith is a form of self-deception in which a person denies their true nature and instead acts in a way that is contrary to their beliefs and values. He argued that bad faith is a form of self-deception in which a person denies their true nature and instead acts in a way that is contrary to their beliefs and values. He argued that bad faith is a form of self-deception in which a person denies their true nature and instead acts in a way that is contrary to their beliefs and values.\n",
      "\n",
      "Sartre argued that bad faith is a form of self-deception in which a person denies their true nature and instead acts in a way that is contrary to their beliefs and values. He argued that bad faith is a form of self-deception in which a person denies their\n",
      "\u001b[31m \u001b[1m words count: 1749\n"
     ]
    }
   ],
   "source": [
    "response=llm(\"write me at least 500 words (minimum) detail introduction about 'bad faith' of Sartre\")\n",
    "print(response)\n",
    "print(Fore.RED, Style.BRIGHT, \"words count:\", len(response.split()))\n"
   ]
  },
  {
   "cell_type": "code",
   "execution_count": null,
   "metadata": {},
   "outputs": [],
   "source": [
    "from langchain.chat_models import ChatOpenAI"
   ]
  },
  {
   "cell_type": "code",
   "execution_count": 34,
   "metadata": {},
   "outputs": [],
   "source": [
    "chat=ChatOpenAI()"
   ]
  },
  {
   "cell_type": "code",
   "execution_count": 35,
   "metadata": {},
   "outputs": [
    {
     "ename": "TypeError",
     "evalue": "Got unknown type h",
     "output_type": "error",
     "traceback": [
      "\u001b[0;31m---------------------------------------------------------------------------\u001b[0m",
      "\u001b[0;31mTypeError\u001b[0m                                 Traceback (most recent call last)",
      "\u001b[1;32m/Users/spinokiem/Documents/Spino_DS_prj/building_a_chatbot/notebooks/interact-w-gpt.ipynb Cell 17\u001b[0m line \u001b[0;36m1\n\u001b[0;32m----> <a href='vscode-notebook-cell:/Users/spinokiem/Documents/Spino_DS_prj/building_a_chatbot/notebooks/interact-w-gpt.ipynb#Y111sZmlsZQ%3D%3D?line=0'>1</a>\u001b[0m chat(\u001b[39m\"\u001b[39;49m\u001b[39mhello\u001b[39;49m\u001b[39m\"\u001b[39;49m)\n",
      "File \u001b[0;32m~/miniconda3/envs/inno23/lib/python3.11/site-packages/langchain/chat_models/base.py:608\u001b[0m, in \u001b[0;36mBaseChatModel.__call__\u001b[0;34m(self, messages, stop, callbacks, **kwargs)\u001b[0m\n\u001b[1;32m    601\u001b[0m \u001b[39mdef\u001b[39;00m \u001b[39m__call__\u001b[39m(\n\u001b[1;32m    602\u001b[0m     \u001b[39mself\u001b[39m,\n\u001b[1;32m    603\u001b[0m     messages: List[BaseMessage],\n\u001b[0;32m   (...)\u001b[0m\n\u001b[1;32m    606\u001b[0m     \u001b[39m*\u001b[39m\u001b[39m*\u001b[39mkwargs: Any,\n\u001b[1;32m    607\u001b[0m ) \u001b[39m-\u001b[39m\u001b[39m>\u001b[39m BaseMessage:\n\u001b[0;32m--> 608\u001b[0m     generation \u001b[39m=\u001b[39m \u001b[39mself\u001b[39;49m\u001b[39m.\u001b[39;49mgenerate(\n\u001b[1;32m    609\u001b[0m         [messages], stop\u001b[39m=\u001b[39;49mstop, callbacks\u001b[39m=\u001b[39;49mcallbacks, \u001b[39m*\u001b[39;49m\u001b[39m*\u001b[39;49mkwargs\n\u001b[1;32m    610\u001b[0m     )\u001b[39m.\u001b[39mgenerations[\u001b[39m0\u001b[39m][\u001b[39m0\u001b[39m]\n\u001b[1;32m    611\u001b[0m     \u001b[39mif\u001b[39;00m \u001b[39misinstance\u001b[39m(generation, ChatGeneration):\n\u001b[1;32m    612\u001b[0m         \u001b[39mreturn\u001b[39;00m generation\u001b[39m.\u001b[39mmessage\n",
      "File \u001b[0;32m~/miniconda3/envs/inno23/lib/python3.11/site-packages/langchain/chat_models/base.py:359\u001b[0m, in \u001b[0;36mBaseChatModel.generate\u001b[0;34m(self, messages, stop, callbacks, tags, metadata, run_name, **kwargs)\u001b[0m\n\u001b[1;32m    357\u001b[0m         \u001b[39mif\u001b[39;00m run_managers:\n\u001b[1;32m    358\u001b[0m             run_managers[i]\u001b[39m.\u001b[39mon_llm_error(e)\n\u001b[0;32m--> 359\u001b[0m         \u001b[39mraise\u001b[39;00m e\n\u001b[1;32m    360\u001b[0m flattened_outputs \u001b[39m=\u001b[39m [\n\u001b[1;32m    361\u001b[0m     LLMResult(generations\u001b[39m=\u001b[39m[res\u001b[39m.\u001b[39mgenerations], llm_output\u001b[39m=\u001b[39mres\u001b[39m.\u001b[39mllm_output)\n\u001b[1;32m    362\u001b[0m     \u001b[39mfor\u001b[39;00m res \u001b[39min\u001b[39;00m results\n\u001b[1;32m    363\u001b[0m ]\n\u001b[1;32m    364\u001b[0m llm_output \u001b[39m=\u001b[39m \u001b[39mself\u001b[39m\u001b[39m.\u001b[39m_combine_llm_outputs([res\u001b[39m.\u001b[39mllm_output \u001b[39mfor\u001b[39;00m res \u001b[39min\u001b[39;00m results])\n",
      "File \u001b[0;32m~/miniconda3/envs/inno23/lib/python3.11/site-packages/langchain/chat_models/base.py:349\u001b[0m, in \u001b[0;36mBaseChatModel.generate\u001b[0;34m(self, messages, stop, callbacks, tags, metadata, run_name, **kwargs)\u001b[0m\n\u001b[1;32m    346\u001b[0m \u001b[39mfor\u001b[39;00m i, m \u001b[39min\u001b[39;00m \u001b[39menumerate\u001b[39m(messages):\n\u001b[1;32m    347\u001b[0m     \u001b[39mtry\u001b[39;00m:\n\u001b[1;32m    348\u001b[0m         results\u001b[39m.\u001b[39mappend(\n\u001b[0;32m--> 349\u001b[0m             \u001b[39mself\u001b[39;49m\u001b[39m.\u001b[39;49m_generate_with_cache(\n\u001b[1;32m    350\u001b[0m                 m,\n\u001b[1;32m    351\u001b[0m                 stop\u001b[39m=\u001b[39;49mstop,\n\u001b[1;32m    352\u001b[0m                 run_manager\u001b[39m=\u001b[39;49mrun_managers[i] \u001b[39mif\u001b[39;49;00m run_managers \u001b[39melse\u001b[39;49;00m \u001b[39mNone\u001b[39;49;00m,\n\u001b[1;32m    353\u001b[0m                 \u001b[39m*\u001b[39;49m\u001b[39m*\u001b[39;49mkwargs,\n\u001b[1;32m    354\u001b[0m             )\n\u001b[1;32m    355\u001b[0m         )\n\u001b[1;32m    356\u001b[0m     \u001b[39mexcept\u001b[39;00m \u001b[39mBaseException\u001b[39;00m \u001b[39mas\u001b[39;00m e:\n\u001b[1;32m    357\u001b[0m         \u001b[39mif\u001b[39;00m run_managers:\n",
      "File \u001b[0;32m~/miniconda3/envs/inno23/lib/python3.11/site-packages/langchain/chat_models/base.py:501\u001b[0m, in \u001b[0;36mBaseChatModel._generate_with_cache\u001b[0;34m(self, messages, stop, run_manager, **kwargs)\u001b[0m\n\u001b[1;32m    497\u001b[0m     \u001b[39mraise\u001b[39;00m \u001b[39mValueError\u001b[39;00m(\n\u001b[1;32m    498\u001b[0m         \u001b[39m\"\u001b[39m\u001b[39mAsked to cache, but no cache found at `langchain.cache`.\u001b[39m\u001b[39m\"\u001b[39m\n\u001b[1;32m    499\u001b[0m     )\n\u001b[1;32m    500\u001b[0m \u001b[39mif\u001b[39;00m new_arg_supported:\n\u001b[0;32m--> 501\u001b[0m     \u001b[39mreturn\u001b[39;00m \u001b[39mself\u001b[39;49m\u001b[39m.\u001b[39;49m_generate(\n\u001b[1;32m    502\u001b[0m         messages, stop\u001b[39m=\u001b[39;49mstop, run_manager\u001b[39m=\u001b[39;49mrun_manager, \u001b[39m*\u001b[39;49m\u001b[39m*\u001b[39;49mkwargs\n\u001b[1;32m    503\u001b[0m     )\n\u001b[1;32m    504\u001b[0m \u001b[39melse\u001b[39;00m:\n\u001b[1;32m    505\u001b[0m     \u001b[39mreturn\u001b[39;00m \u001b[39mself\u001b[39m\u001b[39m.\u001b[39m_generate(messages, stop\u001b[39m=\u001b[39mstop, \u001b[39m*\u001b[39m\u001b[39m*\u001b[39mkwargs)\n",
      "File \u001b[0;32m~/miniconda3/envs/inno23/lib/python3.11/site-packages/langchain/chat_models/openai.py:358\u001b[0m, in \u001b[0;36mChatOpenAI._generate\u001b[0;34m(self, messages, stop, run_manager, stream, **kwargs)\u001b[0m\n\u001b[1;32m    354\u001b[0m     stream_iter \u001b[39m=\u001b[39m \u001b[39mself\u001b[39m\u001b[39m.\u001b[39m_stream(\n\u001b[1;32m    355\u001b[0m         messages, stop\u001b[39m=\u001b[39mstop, run_manager\u001b[39m=\u001b[39mrun_manager, \u001b[39m*\u001b[39m\u001b[39m*\u001b[39mkwargs\n\u001b[1;32m    356\u001b[0m     )\n\u001b[1;32m    357\u001b[0m     \u001b[39mreturn\u001b[39;00m _generate_from_stream(stream_iter)\n\u001b[0;32m--> 358\u001b[0m message_dicts, params \u001b[39m=\u001b[39m \u001b[39mself\u001b[39;49m\u001b[39m.\u001b[39;49m_create_message_dicts(messages, stop)\n\u001b[1;32m    359\u001b[0m params \u001b[39m=\u001b[39m {\u001b[39m*\u001b[39m\u001b[39m*\u001b[39mparams, \u001b[39m*\u001b[39m\u001b[39m*\u001b[39mkwargs}\n\u001b[1;32m    360\u001b[0m response \u001b[39m=\u001b[39m \u001b[39mself\u001b[39m\u001b[39m.\u001b[39mcompletion_with_retry(\n\u001b[1;32m    361\u001b[0m     messages\u001b[39m=\u001b[39mmessage_dicts, run_manager\u001b[39m=\u001b[39mrun_manager, \u001b[39m*\u001b[39m\u001b[39m*\u001b[39mparams\n\u001b[1;32m    362\u001b[0m )\n",
      "File \u001b[0;32m~/miniconda3/envs/inno23/lib/python3.11/site-packages/langchain/chat_models/openai.py:373\u001b[0m, in \u001b[0;36mChatOpenAI._create_message_dicts\u001b[0;34m(self, messages, stop)\u001b[0m\n\u001b[1;32m    371\u001b[0m         \u001b[39mraise\u001b[39;00m \u001b[39mValueError\u001b[39;00m(\u001b[39m\"\u001b[39m\u001b[39m`stop` found in both the input and default params.\u001b[39m\u001b[39m\"\u001b[39m)\n\u001b[1;32m    372\u001b[0m     params[\u001b[39m\"\u001b[39m\u001b[39mstop\u001b[39m\u001b[39m\"\u001b[39m] \u001b[39m=\u001b[39m stop\n\u001b[0;32m--> 373\u001b[0m message_dicts \u001b[39m=\u001b[39m [convert_message_to_dict(m) \u001b[39mfor\u001b[39;49;00m m \u001b[39min\u001b[39;49;00m messages]\n\u001b[1;32m    374\u001b[0m \u001b[39mreturn\u001b[39;00m message_dicts, params\n",
      "File \u001b[0;32m~/miniconda3/envs/inno23/lib/python3.11/site-packages/langchain/chat_models/openai.py:373\u001b[0m, in \u001b[0;36m<listcomp>\u001b[0;34m(.0)\u001b[0m\n\u001b[1;32m    371\u001b[0m         \u001b[39mraise\u001b[39;00m \u001b[39mValueError\u001b[39;00m(\u001b[39m\"\u001b[39m\u001b[39m`stop` found in both the input and default params.\u001b[39m\u001b[39m\"\u001b[39m)\n\u001b[1;32m    372\u001b[0m     params[\u001b[39m\"\u001b[39m\u001b[39mstop\u001b[39m\u001b[39m\"\u001b[39m] \u001b[39m=\u001b[39m stop\n\u001b[0;32m--> 373\u001b[0m message_dicts \u001b[39m=\u001b[39m [convert_message_to_dict(m) \u001b[39mfor\u001b[39;00m m \u001b[39min\u001b[39;00m messages]\n\u001b[1;32m    374\u001b[0m \u001b[39mreturn\u001b[39;00m message_dicts, params\n",
      "File \u001b[0;32m~/miniconda3/envs/inno23/lib/python3.11/site-packages/langchain/adapters/openai.py:84\u001b[0m, in \u001b[0;36mconvert_message_to_dict\u001b[0;34m(message)\u001b[0m\n\u001b[1;32m     78\u001b[0m     message_dict \u001b[39m=\u001b[39m {\n\u001b[1;32m     79\u001b[0m         \u001b[39m\"\u001b[39m\u001b[39mrole\u001b[39m\u001b[39m\"\u001b[39m: \u001b[39m\"\u001b[39m\u001b[39mfunction\u001b[39m\u001b[39m\"\u001b[39m,\n\u001b[1;32m     80\u001b[0m         \u001b[39m\"\u001b[39m\u001b[39mcontent\u001b[39m\u001b[39m\"\u001b[39m: message\u001b[39m.\u001b[39mcontent,\n\u001b[1;32m     81\u001b[0m         \u001b[39m\"\u001b[39m\u001b[39mname\u001b[39m\u001b[39m\"\u001b[39m: message\u001b[39m.\u001b[39mname,\n\u001b[1;32m     82\u001b[0m     }\n\u001b[1;32m     83\u001b[0m \u001b[39melse\u001b[39;00m:\n\u001b[0;32m---> 84\u001b[0m     \u001b[39mraise\u001b[39;00m \u001b[39mTypeError\u001b[39;00m(\u001b[39mf\u001b[39m\u001b[39m\"\u001b[39m\u001b[39mGot unknown type \u001b[39m\u001b[39m{\u001b[39;00mmessage\u001b[39m}\u001b[39;00m\u001b[39m\"\u001b[39m)\n\u001b[1;32m     85\u001b[0m \u001b[39mif\u001b[39;00m \u001b[39m\"\u001b[39m\u001b[39mname\u001b[39m\u001b[39m\"\u001b[39m \u001b[39min\u001b[39;00m message\u001b[39m.\u001b[39madditional_kwargs:\n\u001b[1;32m     86\u001b[0m     message_dict[\u001b[39m\"\u001b[39m\u001b[39mname\u001b[39m\u001b[39m\"\u001b[39m] \u001b[39m=\u001b[39m message\u001b[39m.\u001b[39madditional_kwargs[\u001b[39m\"\u001b[39m\u001b[39mname\u001b[39m\u001b[39m\"\u001b[39m]\n",
      "\u001b[0;31mTypeError\u001b[0m: Got unknown type h"
     ]
    }
   ],
   "source": [
    "chat(\"hello\")"
   ]
  },
  {
   "cell_type": "markdown",
   "metadata": {},
   "source": [
    "# Interact with GPT using a simple prompt"
   ]
  },
  {
   "cell_type": "code",
   "execution_count": 12,
   "metadata": {},
   "outputs": [],
   "source": [
    "from langchain.prompts import PromptTemplate\n",
    "from langchain.llms import OpenAI\n",
    "from langchain.chains import LLMChain\n",
    "\n",
    "prompt_template = \"\"\"You are an expert about policies of ITL Corporation, I will ask you a question, and then provide you some chunks of text contain relevant information about the question. \n",
    "Try to answer the question based on the text provided in Vietnamese.\n",
    "Questions: \n",
    "{user_question}  \n",
    "\n",
    "Relevant Information:\n",
    "{relevant_info}\n",
    "\"\"\"\n",
    "\n",
    "llm = OpenAI(temperature=0)\n",
    "llm_chain = LLMChain(\n",
    "    llm=llm,\n",
    "    prompt=PromptTemplate.from_template(prompt_template)\n",
    ")\n"
   ]
  },
  {
   "cell_type": "code",
   "execution_count": 18,
   "metadata": {},
   "outputs": [
    {
     "name": "stdout",
     "output_type": "stream",
     "text": [
      "Nguyễn Quốc Thúc là Phó Tổng Giám Đốc - VP Nhân Sự của Công ty ITL.\n"
     ]
    }
   ],
   "source": [
    "user_question = 'nguyễn quốc thúc là ai?'\n",
    "relevant_info = \"\"\"\n",
    "nội quy lao động\n",
    "\n",
    "\t01/07/2023\n",
    "\n",
    "\tmã tài liệu: hr.03.v3.2023\n",
    "\n",
    "\tthẩm định\n",
    "\n",
    "\tphê duyệt\n",
    "\n",
    "\tnguyễn quốc thúc (simon)\n",
    "\tphó tgđ – vp nhân sự\t\n",
    "\n",
    "\tnguyễn thị kim oanh (kimberly)\n",
    "\tvp khối phát triển bền vững\n",
    "\n",
    "\n",
    "\ttrần tuấn anh (ben)\n",
    "\ttổng giám đốc\n",
    "\n",
    "\t\n",
    "\n",
    "\tsoạn thảo & đồng thuận\n",
    "\n",
    "\tvõ thị ngọc mai (jina)\n",
    "\ttrưởng phòng tiền lương và phúc lợi\n",
    "\n",
    "\tnguyễn thị phương thảo (oliver)\n",
    "\ttrưởng phòng nhân sự cấp cao\n",
    "\n",
    "\n",
    "\tlê thị hương (minty)\n",
    "\tphó phòng pháp lý\n",
    "\t\n",
    "\n",
    "\tnguyễn thị minh hải (hellen)\n",
    "\ttrưởng phòng tuân thủ\n",
    "\n",
    "\n",
    "\tlịch sử sửa đổi tài liệu\n",
    "\n",
    "\tmã tài liệu\n",
    "\n",
    "\tngày hiệu lực\n",
    "\n",
    "\tnội dung thay đổi\n",
    "\n",
    "\ttrang\n",
    "\n",
    "\t-\n",
    "\n",
    "\t21/02/2019\n",
    "\n",
    "\tcập nhật tài liệu\n",
    "\n",
    "\t-\n",
    "\n",
    "\thr.03.v2.2021\n",
    "\n",
    "\t01/04/2021\n",
    "\n",
    "\tcập nhật tài liệu theo quy định của luật lao động 2019\n",
    "\n",
    "\ttoàn bộ\n",
    "\n",
    "\thr.03.v3.2023\n",
    "\n",
    "\t01/07/2023\n",
    "\n",
    "\t cập nhật tài liệu\n",
    "\n",
    "\ttoàn bộ\n",
    "\n",
    "\"\"\"\n",
    "\n",
    "response = llm_chain(\n",
    "    {\n",
    "        'user_question': user_question,\n",
    "        'relevant_info': relevant_info\n",
    "    }\n",
    ")\n",
    "print(response['text'])"
   ]
  },
  {
   "cell_type": "code",
   "execution_count": 19,
   "metadata": {},
   "outputs": [
    {
     "name": "stdout",
     "output_type": "stream",
     "text": [
      "Nội dung này được soạn thảo bởi Võ Thị Ngọc Mai (Jina), Nguyễn Thị Phương Thảo (Oliver), Lê Thị Hương (Minty), Nguyễn Thị Minh Hải (Hellen).\n"
     ]
    }
   ],
   "source": [
    "response = llm_chain(\n",
    "    {\n",
    "        'user_question': \"nội dung này được soạn thảo bởi ai?\",\n",
    "        'relevant_info': relevant_info\n",
    "    }\n",
    ")\n",
    "print(response['text'])"
   ]
  },
  {
   "cell_type": "code",
   "execution_count": 20,
   "metadata": {},
   "outputs": [
    {
     "data": {
      "text/plain": [
       "'\\n\\nVietnam has 63 provinces.'"
      ]
     },
     "execution_count": 20,
     "metadata": {},
     "output_type": "execute_result"
    }
   ],
   "source": [
    "llm('how many provinces vietname has?')"
   ]
  },
  {
   "cell_type": "code",
   "execution_count": 24,
   "metadata": {},
   "outputs": [
    {
     "name": "stdout",
     "output_type": "stream",
     "text": [
      "You are an expert about policies of ITL Corporation, I will ask you a question, and then provide you some chunks of text contain relevant information about the question. \n",
      "Try to answer the question based on the text provided in Vietnamese.\n",
      "Questions: \n",
      "tai lieu nay duoc soan thao khi nao?  \n",
      "\n",
      "Relevant Information:\n",
      "\n",
      "nội quy lao động\n",
      "\n",
      "\t01/07/2023\n",
      "\n",
      "\tmã tài liệu: hr.03.v3.2023\n",
      "\n",
      "\tthẩm định\n",
      "\n",
      "\tphê duyệt\n",
      "\n",
      "\tnguyễn quốc thúc (simon)\n",
      "\tphó tgđ – vp nhân sự\t\n",
      "\n",
      "\tnguyễn thị kim oanh (kimberly)\n",
      "\tvp khối phát triển bền vững\n",
      "\n",
      "\n",
      "\ttrần tuấn anh (ben)\n",
      "\ttổng giám đốc\n",
      "\n",
      "\t\n",
      "\n",
      "\tsoạn thảo & đồng thuận\n",
      "\n",
      "\tvõ thị ngọc mai (jina)\n",
      "\ttrưởng phòng tiền lương và phúc lợi\n",
      "\n",
      "\tnguyễn thị phương thảo (oliver)\n",
      "\ttrưởng phòng nhân sự cấp cao\n",
      "\n",
      "\n",
      "\tlê thị hương (minty)\n",
      "\tphó phòng pháp lý\n",
      "\t\n",
      "\n",
      "\tnguyễn thị minh hải (hellen)\n",
      "\ttrưởng phòng tuân thủ\n",
      "\n",
      "\n",
      "\tlịch sử sửa đổi tài liệu\n",
      "\n",
      "\tmã tài liệu\n",
      "\n",
      "\tngày hiệu lực\n",
      "\n",
      "\tnội dung thay đổi\n",
      "\n",
      "\ttrang\n",
      "\n",
      "\t-\n",
      "\n",
      "\t21/02/2019\n",
      "\n",
      "\tcập nhật tài liệu\n",
      "\n",
      "\t-\n",
      "\n",
      "\thr.03.v2.2021\n",
      "\n",
      "\t01/04/2021\n",
      "\n",
      "\tcập nhật tài liệu theo quy định của luật lao động 2019\n",
      "\n",
      "\ttoàn bộ\n",
      "\n",
      "\thr.03.v3.2023\n",
      "\n",
      "\t01/07/2023\n",
      "\n",
      "\t cập nhật tài liệu\n",
      "\n",
      "\ttoàn bộ\n",
      "\n",
      "\n",
      "\n"
     ]
    }
   ],
   "source": [
    "# print this out so you can see how does promt_template work\n",
    "print(prompt_template.format(user_question=\"tai lieu nay duoc soan thao khi nao?\", relevant_info=relevant_info)) "
   ]
  },
  {
   "cell_type": "code",
   "execution_count": 25,
   "metadata": {},
   "outputs": [],
   "source": [
    "from langchain import ConversationChain"
   ]
  },
  {
   "cell_type": "code",
   "execution_count": 26,
   "metadata": {},
   "outputs": [
    {
     "name": "stdout",
     "output_type": "stream",
     "text": [
      "\u001b[0;31mInit signature:\u001b[0m\n",
      "\u001b[0mConversationChain\u001b[0m\u001b[0;34m(\u001b[0m\u001b[0;34m\u001b[0m\n",
      "\u001b[0;34m\u001b[0m    \u001b[0;34m*\u001b[0m\u001b[0;34m,\u001b[0m\u001b[0;34m\u001b[0m\n",
      "\u001b[0;34m\u001b[0m    \u001b[0mmemory\u001b[0m\u001b[0;34m:\u001b[0m \u001b[0mlangchain\u001b[0m\u001b[0;34m.\u001b[0m\u001b[0mschema\u001b[0m\u001b[0;34m.\u001b[0m\u001b[0mmemory\u001b[0m\u001b[0;34m.\u001b[0m\u001b[0mBaseMemory\u001b[0m \u001b[0;34m=\u001b[0m \u001b[0;32mNone\u001b[0m\u001b[0;34m,\u001b[0m\u001b[0;34m\u001b[0m\n",
      "\u001b[0;34m\u001b[0m    \u001b[0mcallbacks\u001b[0m\u001b[0;34m:\u001b[0m \u001b[0mUnion\u001b[0m\u001b[0;34m[\u001b[0m\u001b[0mList\u001b[0m\u001b[0;34m[\u001b[0m\u001b[0mlangchain\u001b[0m\u001b[0;34m.\u001b[0m\u001b[0mcallbacks\u001b[0m\u001b[0;34m.\u001b[0m\u001b[0mbase\u001b[0m\u001b[0;34m.\u001b[0m\u001b[0mBaseCallbackHandler\u001b[0m\u001b[0;34m]\u001b[0m\u001b[0;34m,\u001b[0m \u001b[0mlangchain\u001b[0m\u001b[0;34m.\u001b[0m\u001b[0mcallbacks\u001b[0m\u001b[0;34m.\u001b[0m\u001b[0mbase\u001b[0m\u001b[0;34m.\u001b[0m\u001b[0mBaseCallbackManager\u001b[0m\u001b[0;34m,\u001b[0m \u001b[0mNoneType\u001b[0m\u001b[0;34m]\u001b[0m \u001b[0;34m=\u001b[0m \u001b[0;32mNone\u001b[0m\u001b[0;34m,\u001b[0m\u001b[0;34m\u001b[0m\n",
      "\u001b[0;34m\u001b[0m    \u001b[0mcallback_manager\u001b[0m\u001b[0;34m:\u001b[0m \u001b[0mOptional\u001b[0m\u001b[0;34m[\u001b[0m\u001b[0mlangchain\u001b[0m\u001b[0;34m.\u001b[0m\u001b[0mcallbacks\u001b[0m\u001b[0;34m.\u001b[0m\u001b[0mbase\u001b[0m\u001b[0;34m.\u001b[0m\u001b[0mBaseCallbackManager\u001b[0m\u001b[0;34m]\u001b[0m \u001b[0;34m=\u001b[0m \u001b[0;32mNone\u001b[0m\u001b[0;34m,\u001b[0m\u001b[0;34m\u001b[0m\n",
      "\u001b[0;34m\u001b[0m    \u001b[0mverbose\u001b[0m\u001b[0;34m:\u001b[0m \u001b[0mbool\u001b[0m \u001b[0;34m=\u001b[0m \u001b[0;32mNone\u001b[0m\u001b[0;34m,\u001b[0m\u001b[0;34m\u001b[0m\n",
      "\u001b[0;34m\u001b[0m    \u001b[0mtags\u001b[0m\u001b[0;34m:\u001b[0m \u001b[0mOptional\u001b[0m\u001b[0;34m[\u001b[0m\u001b[0mList\u001b[0m\u001b[0;34m[\u001b[0m\u001b[0mstr\u001b[0m\u001b[0;34m]\u001b[0m\u001b[0;34m]\u001b[0m \u001b[0;34m=\u001b[0m \u001b[0;32mNone\u001b[0m\u001b[0;34m,\u001b[0m\u001b[0;34m\u001b[0m\n",
      "\u001b[0;34m\u001b[0m    \u001b[0mmetadata\u001b[0m\u001b[0;34m:\u001b[0m \u001b[0mOptional\u001b[0m\u001b[0;34m[\u001b[0m\u001b[0mDict\u001b[0m\u001b[0;34m[\u001b[0m\u001b[0mstr\u001b[0m\u001b[0;34m,\u001b[0m \u001b[0mAny\u001b[0m\u001b[0;34m]\u001b[0m\u001b[0;34m]\u001b[0m \u001b[0;34m=\u001b[0m \u001b[0;32mNone\u001b[0m\u001b[0;34m,\u001b[0m\u001b[0;34m\u001b[0m\n",
      "\u001b[0;34m\u001b[0m    \u001b[0mprompt\u001b[0m\u001b[0;34m:\u001b[0m \u001b[0mlangchain\u001b[0m\u001b[0;34m.\u001b[0m\u001b[0mschema\u001b[0m\u001b[0;34m.\u001b[0m\u001b[0mprompt_template\u001b[0m\u001b[0;34m.\u001b[0m\u001b[0mBasePromptTemplate\u001b[0m \u001b[0;34m=\u001b[0m \u001b[0mPromptTemplate\u001b[0m\u001b[0;34m(\u001b[0m\u001b[0minput_variables\u001b[0m\u001b[0;34m=\u001b[0m\u001b[0;34m[\u001b[0m\u001b[0;34m'history'\u001b[0m\u001b[0;34m,\u001b[0m \u001b[0;34m'input'\u001b[0m\u001b[0;34m]\u001b[0m\u001b[0;34m,\u001b[0m \u001b[0mtemplate\u001b[0m\u001b[0;34m=\u001b[0m\u001b[0;34m'The following is a friendly conversation between a human and an AI. The AI is talkative and provides lots of specific details from its context. If the AI does not know the answer to a question, it truthfully says it does not know.\\n\\nCurrent conversation:\\n{history}\\nHuman: {input}\\nAI:'\u001b[0m\u001b[0;34m)\u001b[0m\u001b[0;34m,\u001b[0m\u001b[0;34m\u001b[0m\n",
      "\u001b[0;34m\u001b[0m    \u001b[0mllm\u001b[0m\u001b[0;34m:\u001b[0m \u001b[0mlangchain\u001b[0m\u001b[0;34m.\u001b[0m\u001b[0mschema\u001b[0m\u001b[0;34m.\u001b[0m\u001b[0mlanguage_model\u001b[0m\u001b[0;34m.\u001b[0m\u001b[0mBaseLanguageModel\u001b[0m\u001b[0;34m,\u001b[0m\u001b[0;34m\u001b[0m\n",
      "\u001b[0;34m\u001b[0m    \u001b[0moutput_key\u001b[0m\u001b[0;34m:\u001b[0m \u001b[0mstr\u001b[0m \u001b[0;34m=\u001b[0m \u001b[0;34m'response'\u001b[0m\u001b[0;34m,\u001b[0m\u001b[0;34m\u001b[0m\n",
      "\u001b[0;34m\u001b[0m    \u001b[0moutput_parser\u001b[0m\u001b[0;34m:\u001b[0m \u001b[0mlangchain\u001b[0m\u001b[0;34m.\u001b[0m\u001b[0mschema\u001b[0m\u001b[0;34m.\u001b[0m\u001b[0moutput_parser\u001b[0m\u001b[0;34m.\u001b[0m\u001b[0mBaseLLMOutputParser\u001b[0m \u001b[0;34m=\u001b[0m \u001b[0;32mNone\u001b[0m\u001b[0;34m,\u001b[0m\u001b[0;34m\u001b[0m\n",
      "\u001b[0;34m\u001b[0m    \u001b[0mreturn_final_only\u001b[0m\u001b[0;34m:\u001b[0m \u001b[0mbool\u001b[0m \u001b[0;34m=\u001b[0m \u001b[0;32mTrue\u001b[0m\u001b[0;34m,\u001b[0m\u001b[0;34m\u001b[0m\n",
      "\u001b[0;34m\u001b[0m    \u001b[0mllm_kwargs\u001b[0m\u001b[0;34m:\u001b[0m \u001b[0mdict\u001b[0m \u001b[0;34m=\u001b[0m \u001b[0;32mNone\u001b[0m\u001b[0;34m,\u001b[0m\u001b[0;34m\u001b[0m\n",
      "\u001b[0;34m\u001b[0m    \u001b[0minput_key\u001b[0m\u001b[0;34m:\u001b[0m \u001b[0mstr\u001b[0m \u001b[0;34m=\u001b[0m \u001b[0;34m'input'\u001b[0m\u001b[0;34m,\u001b[0m\u001b[0;34m\u001b[0m\n",
      "\u001b[0;34m\u001b[0m\u001b[0;34m)\u001b[0m \u001b[0;34m->\u001b[0m \u001b[0;32mNone\u001b[0m\u001b[0;34m\u001b[0m\u001b[0;34m\u001b[0m\u001b[0m\n",
      "\u001b[0;31mDocstring:\u001b[0m     \n",
      "Chain to have a conversation and load context from memory.\n",
      "\n",
      "Example:\n",
      "    .. code-block:: python\n",
      "\n",
      "        from langchain.chains import ConversationChain\n",
      "        from langchain.llms import OpenAI\n",
      "\n",
      "        conversation = ConversationChain(llm=OpenAI())\n",
      "\u001b[0;31mInit docstring:\u001b[0m\n",
      "Create a new model by parsing and validating input data from keyword arguments.\n",
      "\n",
      "Raises ValidationError if the input data cannot be parsed to form a valid model.\n",
      "\u001b[0;31mFile:\u001b[0m           ~/miniconda3/envs/inno23/lib/python3.11/site-packages/langchain/chains/conversation/base.py\n",
      "\u001b[0;31mType:\u001b[0m           ModelMetaclass\n",
      "\u001b[0;31mSubclasses:\u001b[0m     "
     ]
    }
   ],
   "source": [
    "ConversationChain?"
   ]
  },
  {
   "cell_type": "code",
   "execution_count": 28,
   "metadata": {},
   "outputs": [],
   "source": [
    "conversation = ConversationChain(llm=llm, verbose=True)"
   ]
  },
  {
   "cell_type": "code",
   "execution_count": 29,
   "metadata": {},
   "outputs": [
    {
     "name": "stdout",
     "output_type": "stream",
     "text": [
      "\n",
      "\n",
      "\u001b[1m> Entering new ConversationChain chain...\u001b[0m\n",
      "Prompt after formatting:\n",
      "\u001b[32;1m\u001b[1;3mThe following is a friendly conversation between a human and an AI. The AI is talkative and provides lots of specific details from its context. If the AI does not know the answer to a question, it truthfully says it does not know.\n",
      "\n",
      "Current conversation:\n",
      "\n",
      "Human: Hi there\n",
      "AI:\u001b[0m\n",
      "\n",
      "\u001b[1m> Finished chain.\u001b[0m\n"
     ]
    },
    {
     "data": {
      "text/plain": [
       "' Hi there! How can I help you?'"
      ]
     },
     "execution_count": 29,
     "metadata": {},
     "output_type": "execute_result"
    }
   ],
   "source": [
    "conversation.predict(input=\"Hi there\")"
   ]
  },
  {
   "cell_type": "code",
   "execution_count": 31,
   "metadata": {},
   "outputs": [
    {
     "name": "stdout",
     "output_type": "stream",
     "text": [
      "\n",
      "\n",
      "\u001b[1m> Entering new ConversationChain chain...\u001b[0m\n",
      "Prompt after formatting:\n",
      "\u001b[32;1m\u001b[1;3mThe following is a friendly conversation between a human and an AI. The AI is talkative and provides lots of specific details from its context. If the AI does not know the answer to a question, it truthfully says it does not know.\n",
      "\n",
      "Current conversation:\n",
      "Human: Hi there\n",
      "AI:  Hi there! How can I help you?\n",
      "Human: I am just trying to learn langchain, which is a new library that support create NLP applications easily. Do you know about langchain?\n",
      "AI:\u001b[0m\n",
      "\n",
      "\u001b[1m> Finished chain.\u001b[0m\n"
     ]
    },
    {
     "data": {
      "text/plain": [
       "\" I'm sorry, I don't know about langchain. Could you tell me more about it?\""
      ]
     },
     "execution_count": 31,
     "metadata": {},
     "output_type": "execute_result"
    }
   ],
   "source": [
    "conversation.predict(input=\"I am just trying to learn langchain, which is a new library that support create NLP applications easily. Do you know about langchain?\")"
   ]
  },
  {
   "cell_type": "code",
   "execution_count": 32,
   "metadata": {},
   "outputs": [
    {
     "name": "stdout",
     "output_type": "stream",
     "text": [
      "\n",
      "\n",
      "\u001b[1m> Entering new ConversationChain chain...\u001b[0m\n",
      "Prompt after formatting:\n",
      "\u001b[32;1m\u001b[1;3mThe following is a friendly conversation between a human and an AI. The AI is talkative and provides lots of specific details from its context. If the AI does not know the answer to a question, it truthfully says it does not know.\n",
      "\n",
      "Current conversation:\n",
      "Human: Hi there\n",
      "AI:  Hi there! How can I help you?\n",
      "Human: I am just trying to learn langchain, which is a new library that support create NLP applications easily. Do you know about langchain?\n",
      "AI:  I'm sorry, I don't know about langchain. Could you tell me more about it?\n",
      "Human: yeah, as I predicted, you do not know about it, because you have been trained only on data from 2021 backward\n",
      "AI:\u001b[0m\n",
      "\n",
      "\u001b[1m> Finished chain.\u001b[0m\n"
     ]
    },
    {
     "data": {
      "text/plain": [
       "' I see. It sounds like langchain is a relatively new library. Could you tell me more about what it does and how it can help create NLP applications?'"
      ]
     },
     "execution_count": 32,
     "metadata": {},
     "output_type": "execute_result"
    }
   ],
   "source": [
    "conversation.predict(input=\"yeah, as I predicted, you do not know about it, because you have been trained only on data from 2021 backward\")"
   ]
  },
  {
   "cell_type": "code",
   "execution_count": 33,
   "metadata": {},
   "outputs": [
    {
     "name": "stdout",
     "output_type": "stream",
     "text": [
      "\n",
      "\n",
      "\u001b[1m> Entering new ConversationChain chain...\u001b[0m\n",
      "Prompt after formatting:\n",
      "\u001b[32;1m\u001b[1;3mThe following is a friendly conversation between a human and an AI. The AI is talkative and provides lots of specific details from its context. If the AI does not know the answer to a question, it truthfully says it does not know.\n",
      "\n",
      "Current conversation:\n",
      "Human: Hi there\n",
      "AI:  Hi there! How can I help you?\n",
      "Human: I am just trying to learn langchain, which is a new library that support create NLP applications easily. Do you know about langchain?\n",
      "AI:  I'm sorry, I don't know about langchain. Could you tell me more about it?\n",
      "Human: yeah, as I predicted, you do not know about it, because you have been trained only on data from 2021 backward\n",
      "AI:  I see. It sounds like langchain is a relatively new library. Could you tell me more about what it does and how it can help create NLP applications?\n",
      "Human: unfortunately, I still do not have enough knowledge & understanding about the library to clearly explain to you in detail about it. anyway, just want to check, do you remember what am I learning?\n",
      "AI:\u001b[0m\n",
      "\n",
      "\u001b[1m> Finished chain.\u001b[0m\n"
     ]
    },
    {
     "data": {
      "text/plain": [
       "' Yes, you mentioned that you are trying to learn langchain, which is a new library that supports creating NLP applications easily. Is that correct?'"
      ]
     },
     "execution_count": 33,
     "metadata": {},
     "output_type": "execute_result"
    }
   ],
   "source": [
    "conversation.predict(input='unfortunately, I still do not have enough knowledge & understanding about the library to clearly explain to you in detail about it. anyway, just want to check, do you remember what am I learning?')"
   ]
  },
  {
   "cell_type": "markdown",
   "metadata": {},
   "source": [
    "Good, now, my chatbot can remember things "
   ]
  }
 ],
 "metadata": {
  "kernelspec": {
   "display_name": "inno23",
   "language": "python",
   "name": "python3"
  },
  "language_info": {
   "codemirror_mode": {
    "name": "ipython",
    "version": 3
   },
   "file_extension": ".py",
   "mimetype": "text/x-python",
   "name": "python",
   "nbconvert_exporter": "python",
   "pygments_lexer": "ipython3",
   "version": "3.11.5"
  }
 },
 "nbformat": 4,
 "nbformat_minor": 2
}
